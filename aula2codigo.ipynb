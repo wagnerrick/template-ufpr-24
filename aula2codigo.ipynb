{
 "cells": [
  {
   "cell_type": "code",
   "execution_count": 3,
   "metadata": {},
   "outputs": [],
   "source": [
    "def calcular_pop():\n",
    "    parana_populacao = 11\n",
    "    parana_crescimento = 0.02\n",
    "    populacao_a_mais_2025 = parana_populacao * parana_crescimento\n",
    "    populacao_2025 = populacao_a_mais_2025 + parana_populacao\n",
    "    print(populacao_2025)"
   ]
  },
  {
   "cell_type": "code",
   "execution_count": 4,
   "metadata": {},
   "outputs": [
    {
     "name": "stdout",
     "output_type": "stream",
     "text": [
      "11.22\n"
     ]
    }
   ],
   "source": [
    "calcular_pop()"
   ]
  },
  {
   "cell_type": "code",
   "execution_count": 16,
   "metadata": {},
   "outputs": [],
   "source": [
    "def calcular_media_pop():\n",
    "    pop_pr = 11\n",
    "    pop_rs = 10\n",
    "    pop_sc = 7\n",
    "    pop_total = pop_pr + pop_rs + pop_sc\n",
    "    numero_estados = 3\n",
    "    media_pop = pop_total / numero_estados\n",
    "    print(media_pop)"
   ]
  },
  {
   "cell_type": "code",
   "execution_count": 18,
   "metadata": {},
   "outputs": [
    {
     "name": "stdout",
     "output_type": "stream",
     "text": [
      "9.333333333333334\n"
     ]
    }
   ],
   "source": [
    "calcular_media_pop()"
   ]
  }
 ],
 "metadata": {
  "kernelspec": {
   "display_name": "Python 3",
   "language": "python",
   "name": "python3"
  },
  "language_info": {
   "codemirror_mode": {
    "name": "ipython",
    "version": 3
   },
   "file_extension": ".py",
   "mimetype": "text/x-python",
   "name": "python",
   "nbconvert_exporter": "python",
   "pygments_lexer": "ipython3",
   "version": "3.10.8"
  }
 },
 "nbformat": 4,
 "nbformat_minor": 2
}

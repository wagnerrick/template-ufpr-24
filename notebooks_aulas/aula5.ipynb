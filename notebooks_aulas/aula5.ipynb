{
 "cells": [
  {
   "cell_type": "code",
   "execution_count": 1,
   "metadata": {},
   "outputs": [],
   "source": [
    "import pandas as pd"
   ]
  },
  {
   "cell_type": "code",
   "execution_count": 2,
   "metadata": {},
   "outputs": [
    {
     "name": "stdout",
     "output_type": "stream",
     "text": [
      "         Coluna A  Coluna B  Coluna C\n",
      "Linha 1         0         1         2\n",
      "Linha 2        10        11        12\n",
      "Linha 3        20        21        22 (3, 3)\n"
     ]
    },
    {
     "data": {
      "text/html": [
       "<div>\n",
       "<style scoped>\n",
       "    .dataframe tbody tr th:only-of-type {\n",
       "        vertical-align: middle;\n",
       "    }\n",
       "\n",
       "    .dataframe tbody tr th {\n",
       "        vertical-align: top;\n",
       "    }\n",
       "\n",
       "    .dataframe thead th {\n",
       "        text-align: right;\n",
       "    }\n",
       "</style>\n",
       "<table border=\"1\" class=\"dataframe\">\n",
       "  <thead>\n",
       "    <tr style=\"text-align: right;\">\n",
       "      <th></th>\n",
       "      <th>Coluna A</th>\n",
       "      <th>Coluna B</th>\n",
       "      <th>Coluna C</th>\n",
       "    </tr>\n",
       "  </thead>\n",
       "  <tbody>\n",
       "    <tr>\n",
       "      <th>Linha 1</th>\n",
       "      <td>0</td>\n",
       "      <td>1</td>\n",
       "      <td>2</td>\n",
       "    </tr>\n",
       "    <tr>\n",
       "      <th>Linha 2</th>\n",
       "      <td>10</td>\n",
       "      <td>11</td>\n",
       "      <td>12</td>\n",
       "    </tr>\n",
       "    <tr>\n",
       "      <th>Linha 3</th>\n",
       "      <td>20</td>\n",
       "      <td>21</td>\n",
       "      <td>22</td>\n",
       "    </tr>\n",
       "  </tbody>\n",
       "</table>\n",
       "</div>"
      ],
      "text/plain": [
       "         Coluna A  Coluna B  Coluna C\n",
       "Linha 1         0         1         2\n",
       "Linha 2        10        11        12\n",
       "Linha 3        20        21        22"
      ]
     },
     "metadata": {},
     "output_type": "display_data"
    }
   ],
   "source": [
    "#Leitura do arquivo com os dados\n",
    "df = pd.read_csv(\"../data/exemplo.csv\")\n",
    "print(df, df.shape)\n",
    "display (df)"
   ]
  },
  {
   "cell_type": "code",
   "execution_count": 3,
   "metadata": {},
   "outputs": [
    {
     "name": "stdout",
     "output_type": "stream",
     "text": [
      "Linha 1     2\n",
      "Linha 2    12\n",
      "Linha 3    22\n",
      "Name: Coluna C, dtype: int64\n"
     ]
    }
   ],
   "source": [
    "#Selecionando uma coluna\n",
    "print(df['Coluna C'])"
   ]
  },
  {
   "cell_type": "code",
   "execution_count": 4,
   "metadata": {},
   "outputs": [
    {
     "name": "stdout",
     "output_type": "stream",
     "text": [
      "         Coluna A  Coluna B  Coluna C  Coluna D\n",
      "Linha 1         0         1         2        10\n",
      "Linha 2        10        11        12        10\n",
      "Linha 3        20        21        22        10 (3, 4)\n"
     ]
    }
   ],
   "source": [
    "#Criando uma coluna com valor fixo\n",
    "df ['Coluna D'] = 10\n",
    "print(df, df.shape)"
   ]
  },
  {
   "cell_type": "code",
   "execution_count": 5,
   "metadata": {},
   "outputs": [
    {
     "name": "stdout",
     "output_type": "stream",
     "text": [
      "         Coluna A  Coluna B  Coluna C  Coluna D  Coluna E\n",
      "Linha 1         0         1         2        10         3\n",
      "Linha 2        10        11        12        10        23\n",
      "Linha 3        20        21        22        10        43 (3, 5)\n"
     ]
    }
   ],
   "source": [
    "# Criando uma coluna com valor variavel\n",
    "df['Coluna E'] =  df['Coluna B'] + df['Coluna C']\n",
    "print(df, df.shape)"
   ]
  },
  {
   "cell_type": "code",
   "execution_count": 6,
   "metadata": {},
   "outputs": [
    {
     "name": "stdout",
     "output_type": "stream",
     "text": [
      "         Coluna A  Coluna B  Coluna C  Coluna D  Coluna E  Coluna F\n",
      "Linha 1         0         1         2        10         3         1\n",
      "Linha 2        10        11        12        10        23         2\n",
      "Linha 3        20        21        22        10        43         3 (3, 6)\n"
     ]
    }
   ],
   "source": [
    "# Criando uma coluna, informando os valores em uma série\n",
    "df['Coluna F'] = [1, 2, 3]\n",
    "print(df, df.shape)"
   ]
  },
  {
   "cell_type": "code",
   "execution_count": 7,
   "metadata": {},
   "outputs": [
    {
     "name": "stdout",
     "output_type": "stream",
     "text": [
      "         Coluna A  Coluna B  Coluna C  Coluna D  Coluna E  Coluna F  Total\n",
      "Linha 1         0         1         2        10         3         1     17\n",
      "Linha 2        10        11        12        10        23         2     68\n",
      "Linha 3        20        21        22        10        43         3    119\n",
      "Coluna A     30\n",
      "Coluna B     33\n",
      "Coluna C     36\n",
      "Coluna D     30\n",
      "Coluna E     69\n",
      "Coluna F      6\n",
      "Total       204\n",
      "dtype: int64\n"
     ]
    }
   ],
   "source": [
    "# Criando nova coluna com totais\n",
    "df['Total'] = df.sum(axis=1)\n",
    "vari = df.sum(axis=0)\n",
    "print(df)\n",
    "print(vari)"
   ]
  }
 ],
 "metadata": {
  "kernelspec": {
   "display_name": "Python 3",
   "language": "python",
   "name": "python3"
  },
  "language_info": {
   "codemirror_mode": {
    "name": "ipython",
    "version": 3
   },
   "file_extension": ".py",
   "mimetype": "text/x-python",
   "name": "python",
   "nbconvert_exporter": "python",
   "pygments_lexer": "ipython3",
   "version": "3.10.8"
  }
 },
 "nbformat": 4,
 "nbformat_minor": 2
}

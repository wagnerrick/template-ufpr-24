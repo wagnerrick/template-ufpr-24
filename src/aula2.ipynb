{
 "cells": [
  {
   "cell_type": "code",
   "execution_count": 1,
   "metadata": {},
   "outputs": [],
   "source": [
    "texto_ale=\"mdsksadsdsds\""
   ]
  },
  {
   "cell_type": "code",
   "execution_count": 2,
   "metadata": {},
   "outputs": [
    {
     "name": "stdout",
     "output_type": "stream",
     "text": [
      "Marquinhos Moura\n"
     ]
    }
   ],
   "source": [
    "pseudonimo = \"Marquinhos Moura\"\n",
    "print(pseudonimo)"
   ]
  },
  {
   "cell_type": "code",
   "execution_count": 4,
   "metadata": {},
   "outputs": [
    {
     "name": "stdout",
     "output_type": "stream",
     "text": [
      "MARQUINHOS MOURA\n"
     ]
    }
   ],
   "source": [
    "pseudonimo_maiusc = pseudonimo.upper()\n",
    "print(pseudonimo_maiusc)"
   ]
  },
  {
   "cell_type": "code",
   "execution_count": 12,
   "metadata": {},
   "outputs": [
    {
     "name": "stdout",
     "output_type": "stream",
     "text": [
      "Marquinhos Moura\n",
      "['Marquinh', 's M', 'ura']\n"
     ]
    }
   ],
   "source": [
    "pseudonimo_lista = pseudonimo.split('o')\n",
    "print(pseudonimo)\n",
    "print(pseudonimo_lista)"
   ]
  },
  {
   "cell_type": "code",
   "execution_count": null,
   "metadata": {},
   "outputs": [],
   "source": [
    "pseudonimo.replace()\n",
    "pseudonimo.split()\n",
    "pseudonimo.upper()\n",
    "pseudonimo.lower()\n"
   ]
  },
  {
   "cell_type": "code",
   "execution_count": 14,
   "metadata": {},
   "outputs": [
    {
     "name": "stdout",
     "output_type": "stream",
     "text": [
      "Beyonce Moura\n"
     ]
    }
   ],
   "source": [
    "pseudonimo = pseudonimo.replace('Marquinhos','Beyonce')\n",
    "print(pseudonimo)"
   ]
  }
 ],
 "metadata": {
  "kernelspec": {
   "display_name": "Python 3",
   "language": "python",
   "name": "python3"
  },
  "language_info": {
   "codemirror_mode": {
    "name": "ipython",
    "version": 3
   },
   "file_extension": ".py",
   "mimetype": "text/x-python",
   "name": "python",
   "nbconvert_exporter": "python",
   "pygments_lexer": "ipython3",
   "version": "3.10.8"
  }
 },
 "nbformat": 4,
 "nbformat_minor": 2
}
